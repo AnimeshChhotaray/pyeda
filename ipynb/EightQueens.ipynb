{
 "metadata": {
  "name": ""
 },
 "nbformat": 3,
 "nbformat_minor": 0,
 "worksheets": [
  {
   "cells": [
    {
     "cell_type": "code",
     "collapsed": false,
     "input": [
      "import sys\n",
      "sys.path.append('..')"
     ],
     "language": "python",
     "metadata": {},
     "outputs": []
    },
    {
     "cell_type": "code",
     "collapsed": false,
     "input": [
      "from pyeda.inter import *"
     ],
     "language": "python",
     "metadata": {},
     "outputs": []
    },
    {
     "cell_type": "code",
     "collapsed": false,
     "input": [
      "X = exprvars('x', 8, 8)"
     ],
     "language": "python",
     "metadata": {},
     "outputs": []
    },
    {
     "cell_type": "code",
     "collapsed": false,
     "input": [
      "R = And(*[OneHot(*[X[r,c] for c in range(8)]) for r in range(8)])"
     ],
     "language": "python",
     "metadata": {},
     "outputs": []
    },
    {
     "cell_type": "code",
     "collapsed": false,
     "input": [
      "C = And(*[OneHot(*[X[r,c] for r in range(8)]) for c in range(8)])"
     ],
     "language": "python",
     "metadata": {},
     "outputs": []
    },
    {
     "cell_type": "code",
     "collapsed": false,
     "input": [
      "starts = [(i, 0) for i in range(8-2, 0, -1)] + [(0, i) for i in range(8-1)]\n",
      "lrdiags = []\n",
      "for r, c in starts:\n",
      "    lrdiags.append([])\n",
      "    ri, ci = r, c\n",
      "    while ri < 8 and ci < 8:\n",
      "        lrdiags[-1].append((ri, ci))\n",
      "        ri += 1\n",
      "        ci += 1\n",
      "\n",
      "DLR = And(*[OneHot0(*[X[r,c] for r, c in diag]) for diag in lrdiags])"
     ],
     "language": "python",
     "metadata": {},
     "outputs": []
    },
    {
     "cell_type": "code",
     "collapsed": false,
     "input": [
      "starts = [(i, 8-1) for i in range(8-2, -1, -1)] + [(0, i) for i in range(8-2, 0, -1)]\n",
      "rldiags = []\n",
      "for r, c in starts:\n",
      "    rldiags.append([])\n",
      "    ri, ci = r, c\n",
      "    while ri < 8 and ci >= 0:\n",
      "        rldiags[-1].append((ri, ci))\n",
      "        ri += 1\n",
      "        ci -= 1\n",
      "\n",
      "DRL = And(*[OneHot0(*[X[r,c] for r, c in diag]) for diag in rldiags])"
     ],
     "language": "python",
     "metadata": {},
     "outputs": []
    },
    {
     "cell_type": "code",
     "collapsed": false,
     "input": [
      "S = R & C & DLR & DRL"
     ],
     "language": "python",
     "metadata": {},
     "outputs": []
    },
    {
     "cell_type": "code",
     "collapsed": false,
     "input": [
      "S.is_cnf()"
     ],
     "language": "python",
     "metadata": {},
     "outputs": []
    },
    {
     "cell_type": "code",
     "collapsed": false,
     "input": [
      "len(S.xs)"
     ],
     "language": "python",
     "metadata": {},
     "outputs": []
    },
    {
     "cell_type": "code",
     "collapsed": false,
     "input": [
      "def display(point):\n",
      "    chars = list()\n",
      "    for r in range(8):\n",
      "        for c in range(8):\n",
      "            if point[X[r,c]]:\n",
      "                chars.append(\"Q\")\n",
      "            else:\n",
      "                chars.append(\".\")\n",
      "        if r != 7:\n",
      "            chars.append(\"\\n\")\n",
      "    print(\"\".join(chars))"
     ],
     "language": "python",
     "metadata": {},
     "outputs": []
    },
    {
     "cell_type": "code",
     "collapsed": false,
     "input": [
      "display(S.satisfy_one())"
     ],
     "language": "python",
     "metadata": {},
     "outputs": []
    },
    {
     "cell_type": "code",
     "collapsed": false,
     "input": [
      "for i, soln in enumerate(S.satisfy_all()):\n",
      "    print(\"Solution\", i+1, end=\"\\n\\n\")\n",
      "    display(soln)\n",
      "    print(\"\")"
     ],
     "language": "python",
     "metadata": {},
     "outputs": []
    },
    {
     "cell_type": "code",
     "collapsed": false,
     "input": [
      "S.satisfy_count()"
     ],
     "language": "python",
     "metadata": {},
     "outputs": []
    },
    {
     "cell_type": "code",
     "collapsed": false,
     "input": [
      "len(list(S.satisfy_all()))"
     ],
     "language": "python",
     "metadata": {},
     "outputs": []
    }
   ],
   "metadata": {}
  }
 ]
}
