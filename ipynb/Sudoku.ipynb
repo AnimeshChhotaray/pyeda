{
 "metadata": {
  "name": ""
 },
 "nbformat": 3,
 "nbformat_minor": 0,
 "worksheets": [
  {
   "cells": [
    {
     "cell_type": "code",
     "collapsed": false,
     "input": [
      "import sys\n",
      "sys.path.append('..')"
     ],
     "language": "python",
     "metadata": {},
     "outputs": []
    },
    {
     "cell_type": "code",
     "collapsed": false,
     "input": [
      "from pyeda.inter import *"
     ],
     "language": "python",
     "metadata": {},
     "outputs": []
    },
    {
     "cell_type": "code",
     "collapsed": false,
     "input": [
      "DIGITS = \"123456789\""
     ],
     "language": "python",
     "metadata": {},
     "outputs": []
    },
    {
     "cell_type": "code",
     "collapsed": false,
     "input": [
      "X = exprvars('x', (1, 10), (1, 10), (1, 10))"
     ],
     "language": "python",
     "metadata": {},
     "outputs": []
    },
    {
     "cell_type": "code",
     "collapsed": false,
     "input": [
      "V = And(*[\n",
      "        And(*[\n",
      "            OneHot(*[X[r,c,v] for v in range(1, 10)])\n",
      "                     for c in range(1, 10)]\n",
      "        )\n",
      "        for r in range(1, 10)]\n",
      "    )"
     ],
     "language": "python",
     "metadata": {},
     "outputs": []
    },
    {
     "cell_type": "code",
     "collapsed": false,
     "input": [
      "R = And(*[\n",
      "        And(*[\n",
      "            OneHot(*[X[r,c,v] for c in range(1, 10)])\n",
      "                     for v in range(1, 10)]\n",
      "        )\n",
      "        for r in range(1, 10)]\n",
      "    )"
     ],
     "language": "python",
     "metadata": {},
     "outputs": []
    },
    {
     "cell_type": "code",
     "collapsed": false,
     "input": [
      "C = And(*[\n",
      "        And(*[\n",
      "            OneHot(*[X[r,c,v] for r in range(1, 10)])\n",
      "                     for v in range(1, 10)]\n",
      "        )\n",
      "        for c in range(1, 10)]\n",
      "    )"
     ],
     "language": "python",
     "metadata": {},
     "outputs": []
    },
    {
     "cell_type": "code",
     "collapsed": false,
     "input": [
      "B = And(*[\n",
      "        And(*[\n",
      "            OneHot(*[\n",
      "                X[3*br+r,3*bc+c,v]\n",
      "                    for r in range(1, 4)\n",
      "                    for c in range(1, 4)]\n",
      "            )\n",
      "            for v in range(1, 10)]\n",
      "        )\n",
      "        for br in range(3) for bc in range(3)]\n",
      "    )"
     ],
     "language": "python",
     "metadata": {},
     "outputs": []
    },
    {
     "cell_type": "code",
     "collapsed": false,
     "input": [
      "S = And(V, R, C, B)"
     ],
     "language": "python",
     "metadata": {},
     "outputs": []
    },
    {
     "cell_type": "code",
     "collapsed": false,
     "input": [
      "len(S.args)"
     ],
     "language": "python",
     "metadata": {},
     "outputs": []
    },
    {
     "cell_type": "code",
     "collapsed": false,
     "input": [
      "S = S.absorb()"
     ],
     "language": "python",
     "metadata": {},
     "outputs": []
    },
    {
     "cell_type": "code",
     "collapsed": false,
     "input": [
      "len(S.args)"
     ],
     "language": "python",
     "metadata": {},
     "outputs": []
    },
    {
     "cell_type": "code",
     "collapsed": false,
     "input": [
      "def parse_grid(grid):\n",
      "    chars = [c for c in grid if c in DIGITS or c in \"0.\"]\n",
      "    assert len(chars) == 9 ** 2\n",
      "    return And(*[ X[i // 9 + 1, i % 9 + 1, int(c)]\n",
      "                  for i, c in enumerate(chars) if c in DIGITS ])"
     ],
     "language": "python",
     "metadata": {},
     "outputs": []
    },
    {
     "cell_type": "code",
     "collapsed": false,
     "input": [
      "grid = ( \".73|...|8..\"\n",
      "         \"..4|13.|.5.\"\n",
      "         \".85|..6|31.\"\n",
      "         \"---+---+---\"\n",
      "         \"5..|.9.|.3.\"\n",
      "         \"..8|.1.|5..\"\n",
      "         \".1.|.6.|..7\"\n",
      "         \"---+---+---\"\n",
      "         \".51|6..|28.\"\n",
      "         \".4.|.52|9..\"\n",
      "         \"..2|...|64.\" )"
     ],
     "language": "python",
     "metadata": {},
     "outputs": []
    },
    {
     "cell_type": "code",
     "collapsed": false,
     "input": [
      "def get_val(point, r, c):\n",
      "    for v in range(1, 10):\n",
      "        if point[X[r,c,v]]:\n",
      "            return DIGITS[v-1]\n",
      "    return \"X\""
     ],
     "language": "python",
     "metadata": {},
     "outputs": []
    },
    {
     "cell_type": "code",
     "collapsed": false,
     "input": [
      "def display(point):\n",
      "    chars = list()\n",
      "    for r in range(1, 10):\n",
      "        for c in range(1, 10):\n",
      "            if c in (4, 7):\n",
      "                chars.append(\"|\")\n",
      "            chars.append(get_val(point, r, c))\n",
      "        if r != 9:\n",
      "            chars.append(\"\\n\")\n",
      "            if r in (3, 6):\n",
      "                chars.append(\"---+---+---\\n\")\n",
      "    print(\"\".join(chars))"
     ],
     "language": "python",
     "metadata": {},
     "outputs": []
    },
    {
     "cell_type": "code",
     "collapsed": false,
     "input": [
      "def solve(grid):\n",
      "    with parse_grid(grid):\n",
      "        return S.satisfy_one()"
     ],
     "language": "python",
     "metadata": {},
     "outputs": []
    },
    {
     "cell_type": "code",
     "collapsed": false,
     "input": [
      "display(solve(grid))"
     ],
     "language": "python",
     "metadata": {},
     "outputs": []
    }
   ],
   "metadata": {}
  }
 ]
}